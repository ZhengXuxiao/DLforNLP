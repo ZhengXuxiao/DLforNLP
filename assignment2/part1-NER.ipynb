{
 "cells": [
  {
   "cell_type": "markdown",
   "metadata": {},
   "source": [
    "# CS 224D Assignment #2\n",
    "# Part [1]: Deep Networks: NER Window Model\n",
    "\n",
    "For this first part of the assignment, you'll build your first \"deep\" networks. On problem set 1, you computed the backpropagation gradient $\\frac{\\partial J}{\\partial w}$ for a two-layer network; in this problem set you'll implement a slightly more complex network to perform  named entity recognition (NER).\n",
    "\n",
    "Before beginning the programming section, you should complete parts (a) and (b) of the corresponding section of the handout."
   ]
  },
  {
   "cell_type": "code",
   "execution_count": 2,
   "metadata": {
    "collapsed": false
   },
   "outputs": [],
   "source": [
    "import sys, os\n",
    "from numpy import *\n",
    "from matplotlib.pyplot import *\n",
    "%matplotlib inline\n",
    "matplotlib.rcParams['savefig.dpi'] = 100\n",
    "\n",
    "%load_ext autoreload\n",
    "%autoreload 2"
   ]
  },
  {
   "cell_type": "markdown",
   "metadata": {},
   "source": [
    "## (c): Random Initialization Test\n",
    "Use the cell below to test your code."
   ]
  },
  {
   "cell_type": "code",
   "execution_count": 3,
   "metadata": {
    "collapsed": false
   },
   "outputs": [
    {
     "name": "stdout",
     "output_type": "stream",
     "text": [
      "[[ 0.46994114 -0.83008197  0.23148553  0.43094097 -0.00258593]\n",
      " [-0.47666619 -0.52297046  0.45125243 -0.57311684 -0.71301636]\n",
      " [ 0.32105262  0.78530031 -0.85918681  0.02111762  0.54147539]]\n"
     ]
    }
   ],
   "source": [
    "from misc import random_weight_matrix\n",
    "random.seed(10)\n",
    "print random_weight_matrix(3,5)"
   ]
  },
  {
   "cell_type": "markdown",
   "metadata": {},
   "source": [
    "## (d): Implementation\n",
    "\n",
    "We've provided starter code to load in the dataset and convert it to a list of \"windows\", consisting of indices into the matrix of word vectors. \n",
    "\n",
    "We pad each sentence with begin and end tokens `<s>` and `</s>`, which have their own word vector representations; additionally, we convert all words to lowercase, canonicalize digits (e.g. `1.12` becomes `DG.DGDG`), and replace unknown words with a special token `UUUNKKK`.\n",
    "\n",
    "You don't need to worry about the details of this, but you can inspect the `docs` variables or look at the raw data (in plaintext) in the `./data/` directory."
   ]
  },
  {
   "cell_type": "code",
   "execution_count": 4,
   "metadata": {
    "collapsed": true
   },
   "outputs": [],
   "source": [
    "import data_utils.utils as du\n",
    "import data_utils.ner as ner"
   ]
  },
  {
   "cell_type": "code",
   "execution_count": 5,
   "metadata": {
    "collapsed": false
   },
   "outputs": [],
   "source": [
    "# Load the starter word vectors\n",
    "wv, word_to_num, num_to_word = ner.load_wv('data/ner/vocab.txt',\n",
    "                                           'data/ner/wordVectors.txt')\n",
    "tagnames = [\"O\", \"LOC\", \"MISC\", \"ORG\", \"PER\"]\n",
    "num_to_tag = dict(enumerate(tagnames))\n",
    "tag_to_num = du.invert_dict(num_to_tag)\n",
    "\n",
    "# Set window size\n",
    "windowsize = 3\n",
    "\n",
    "# Load the training set\n",
    "docs = du.load_dataset('data/ner/train')\n",
    "X_train, y_train = du.docs_to_windows(docs, word_to_num, tag_to_num,\n",
    "                                      wsize=windowsize)\n",
    "\n",
    "# Load the dev set (for tuning hyperparameters)\n",
    "docs = du.load_dataset('data/ner/dev')\n",
    "X_dev, y_dev = du.docs_to_windows(docs, word_to_num, tag_to_num,\n",
    "                                  wsize=windowsize)\n",
    "\n",
    "# Load the test set (dummy labels only)\n",
    "docs = du.load_dataset('data/ner/test.masked')\n",
    "X_test, y_test = du.docs_to_windows(docs, word_to_num, tag_to_num,\n",
    "                                    wsize=windowsize)"
   ]
  },
  {
   "cell_type": "markdown",
   "metadata": {},
   "source": [
    "To avoid re-inventing the wheel, we provide a base class that handles a lot of the drudgery of managing parameters and running gradient descent. It's based on the classifier API used by [`scikit-learn`](http://scikit-learn.org/stable/), so if you're familiar with that library it should be easy to use. \n",
    "\n",
    "We'll be using this class for the rest of this assignment, so it helps to get acquainted with a simple example that should be familiar from Assignment 1. To keep this notebook uncluttered, we've put the code in the `softmax_example.py`; take a look at it there, then run the cell below."
   ]
  },
  {
   "cell_type": "code",
   "execution_count": 6,
   "metadata": {
    "collapsed": false
   },
   "outputs": [
    {
     "name": "stderr",
     "output_type": "stream",
     "text": [
      "grad_check: dJ/db error norm = 3.565e-10 [ok]\n",
      "    b dims: [5L] = 5 elem\n",
      "grad_check: dJ/dW error norm = 2.164e-11 [ok]\n",
      "    W dims: [5L, 100L] = 500 elem\n",
      "grad_check: dJ/dL[5] error norm = 2.646e-11 [ok]\n",
      "    L[5] dims: [100L] = 100 elem\n"
     ]
    }
   ],
   "source": [
    "from softmax_example import SoftmaxRegression\n",
    "sr = SoftmaxRegression(wv=zeros((10,100)), dims=(100,5))\n",
    "\n",
    "##\n",
    "# Automatic gradient checker!\n",
    "# this checks anything you add to self.grads or self.sgrads\n",
    "# using the method of Assignment 1\n",
    "sr.grad_check(x=5, y=4)"
   ]
  },
  {
   "cell_type": "markdown",
   "metadata": {},
   "source": [
    "In order to implement a model, you need to subclass `NNBase`, then implement the following methods:\n",
    "\n",
    "- `__init__()` (initialize parameters and hyperparameters)\n",
    "- `_acc_grads()` (compute and accumulate gradients)\n",
    "- `compute_loss()` (compute loss for a training example)\n",
    "- `predict()`, `predict_proba()`, or other prediction method (for evaluation)\n",
    "\n",
    "`NNBase` provides you with a few others that will be helpful:\n",
    "\n",
    "- `grad_check()` (run a gradient check - calls `_acc_grads` and `compute_loss`)\n",
    "- `train_sgd()` (run SGD training; more on this later)\n",
    "\n",
    "Your task is to implement the window model in `nerwindow.py`; a scaffold has been provided for you with instructions on what to fill in.\n",
    "\n",
    "When ready, you can test below:"
   ]
  },
  {
   "cell_type": "code",
   "execution_count": 7,
   "metadata": {
    "collapsed": false
   },
   "outputs": [
    {
     "name": "stderr",
     "output_type": "stream",
     "text": [
      "grad_check: dJ/db2 error norm = 3.212e-10 [ok]\n",
      "    b2 dims: [5L] = 5 elem\n",
      "grad_check: dJ/dU error norm = 2.842e-10 [ok]\n",
      "    U dims: [5L, 100L] = 500 elem\n",
      "grad_check: dJ/db1 error norm = 2.85e-09 [ok]\n",
      "    b1 dims: [100L] = 100 elem\n",
      "grad_check: dJ/dW error norm = 1.337e-08 [ok]\n",
      "    W dims: [100L, 150L] = 15000 elem\n",
      "grad_check: dJ/dL[(30, slice(None, None, None))] error norm = 3.516e-11 [ok]\n",
      "    L[(30, slice(None, None, None))] dims: [50L] = 50 elem\n",
      "grad_check: dJ/dL[(6659, slice(None, None, None))] error norm = 4.373e-11 [ok]\n",
      "    L[(6659, slice(None, None, None))] dims: [50L] = 50 elem\n",
      "grad_check: dJ/dL[(12637, slice(None, None, None))] error norm = 4.542e-11 [ok]\n",
      "    L[(12637, slice(None, None, None))] dims: [50L] = 50 elem\n"
     ]
    }
   ],
   "source": [
    "from nerwindow import WindowMLP\n",
    "clf = WindowMLP(wv, windowsize=windowsize, dims=[None, 100, 5],\n",
    "                reg=0.001, alpha=0.01)\n",
    "clf.grad_check(X_train[0], y_train[0]) # gradient check on single point"
   ]
  },
  {
   "cell_type": "markdown",
   "metadata": {},
   "source": [
    "Now we'll train your model on some data! You can implement your own SGD method, but we recommend that you just call `clf.train_sgd`. This takes the following arguments:\n",
    "\n",
    "- `X`, `y` : training data\n",
    "- `idxiter`: iterable (list or generator) that gives index (row of X) of training examples in the order they should be visited by SGD\n",
    "- `printevery`: int, prints progress after this many examples\n",
    "- `costevery`: int, computes mean loss after this many examples. This is a costly operation, so don't make this too frequent!\n",
    "\n",
    "The implementation we give you supports minibatch learning; if `idxiter` is a list-of-lists (or yields lists), then gradients will be computed for all indices in a minibatch before modifying the parameters (this is why we have you write `_acc_grad` instead of applying them directly!).\n",
    "\n",
    "Before training, you should generate a training schedule to pass as `idxiter`. If you know how to use Python generators, we recommend those; otherwise, just make a static list. Make the following in the cell below:\n",
    "\n",
    "- An \"epoch\" schedule that just iterates through the training set, in order, `nepoch` times.\n",
    "- A random schedule of `N` examples sampled with replacement from the training set.\n",
    "- A random schedule of `N/k` minibatches of size `k`, sampled with replacement from the training set."
   ]
  },
  {
   "cell_type": "code",
   "execution_count": 8,
   "metadata": {
    "collapsed": false
   },
   "outputs": [],
   "source": [
    "nepoch = 5\n",
    "N = nepoch * len(y_train)\n",
    "k = 5 # minibatch size\n",
    "\n",
    "random.seed(10) # do not change this!\n",
    "#### YOUR CODE HERE ####\n",
    "squence = range(len(y_train))\n",
    "def minibatch_iterator(squence, k = 5, minibatches_size = 10):\n",
    "    for i in xrange(minibatches_size):\n",
    "        yield random.choice(squence, k)\n",
    "\n",
    "#### END YOUR CODE ###"
   ]
  },
  {
   "cell_type": "markdown",
   "metadata": {},
   "source": [
    "Now call `train_sgd` to train on `X_train`, `y_train`. To verify that things work, train on 100,000 examples or so to start (with any of the above schedules). This shouldn't take more than a couple minutes, and you should get a mean cross-entropy loss around 0.4.\n",
    "\n",
    "Now, if this works well, it's time for production! You have three tasks here:\n",
    "\n",
    "1. Train a good model\n",
    "2. Plot a learning curve (cost vs. # of iterations)\n",
    "3. Use your best model to predict the test set\n",
    "\n",
    "You should train on the `train` data and evaluate performance on the `dev` set. The `test` data we provided has only dummy labels (everything is `O`); we'll compare your predictions to the true labels at grading time. \n",
    "\n",
    "Scroll down to section (f) for the evaluation code.\n",
    "\n",
    "We don't expect you to spend too much time doing an exhaustive search here; the default parameters should work well, although you can certainly do better. Try to achieve an F1 score of at least 76% on the dev set, as reported by `eval_performance`.\n",
    "\n",
    "Feel free to create new cells and write new code here, including new functions (helpers and otherwise) in `nerwindow.py`. When you have a good model, follow the instructions below to make predictions on the test set.\n",
    "\n",
    "A strong model may require 10-20 passes (or equivalent number of random samples) through the training set and could take 20 minutes or more to train - but it's also possible to be much, much faster!\n",
    "\n",
    "Things you may want to tune:\n",
    "- `alpha` (including using an \"annealing\" schedule to decrease the learning rate over time)\n",
    "- training schedule and minibatch size\n",
    "- regularization strength\n",
    "- hidden layer dimension\n",
    "- width of context window"
   ]
  },
  {
   "cell_type": "code",
   "execution_count": 14,
   "metadata": {
    "collapsed": false,
    "scrolled": true
   },
   "outputs": [
    {
     "name": "stdout",
     "output_type": "stream",
     "text": [
      "             precision    recall  f1-score   support\n",
      "\n",
      "          O       0.96      0.98      0.97     42759\n",
      "        LOC       0.86      0.76      0.81      2094\n",
      "       MISC       0.72      0.66      0.69      1268\n",
      "        ORG       0.67      0.51      0.58      2092\n",
      "        PER       0.83      0.75      0.79      3149\n",
      "\n",
      "avg / total       0.93      0.93      0.93     51362\n",
      "\n",
      "=== Performance (omitting 'O' class) ===\n",
      "Mean precision:  78.38%\n",
      "Mean recall:     68.24%\n",
      "Mean F1:         72.88%\n"
     ]
    }
   ],
   "source": [
    "#### YOUR CODE HERE ####\n",
    "# Sandbox: build a good model by tuning hyperparameters\n",
    "#clf.train_sgd(X_train[:100000], y_train[:100000], idxiter = xrange(100000), printevery = 10000, costevery = 10000)\n",
    "from nerwindow import full_report, eval_performance\n",
    "y_pre = clf.predict(X_dev)\n",
    "full_report(y_dev, y_pre, tagnames)\n",
    "eval_performance(y_dev, y_pre, tagnames)\n",
    "\n",
    "#### END YOUR CODE ####"
   ]
  },
  {
   "cell_type": "code",
   "execution_count": 37,
   "metadata": {
    "collapsed": false,
    "scrolled": true
   },
   "outputs": [
    {
     "name": "stdout",
     "output_type": "stream",
     "text": [
      "alpha:  0.001\n",
      "Begin SGD...\n",
      "  Seen 0 in 0.02 s\n",
      "  [0]: mean loss 1.77988\n",
      "SGD Interrupted: saw 182650 examples in 2465.93 seconds.\n",
      "             precision    recall  f1-score   support\n",
      "\n",
      "          O       0.95      0.98      0.97     42759\n",
      "        LOC       0.76      0.69      0.72      2094\n",
      "       MISC       0.79      0.48      0.59      1268\n",
      "        ORG       0.52      0.36      0.43      2092\n",
      "        PER       0.76      0.74      0.75      3149\n",
      "\n",
      "avg / total       0.91      0.92      0.91     51362\n",
      "\n",
      "=== Performance (omitting 'O' class) ===\n",
      "Mean precision:  70.70%\n",
      "Mean recall:     59.61%\n",
      "Mean F1:         64.16%\n",
      "alpha:  0.003\n",
      "Begin SGD...\n",
      "  Seen 0 in 0.02 s\n",
      "  [0]: mean loss 1.77988\n",
      "  [203621]: mean loss 0.177422\n",
      "SGD complete: 203621 examples in 3151.85 seconds.\n",
      "             precision    recall  f1-score   support\n",
      "\n",
      "          O       0.96      0.99      0.97     42759\n",
      "        LOC       0.89      0.71      0.79      2094\n",
      "       MISC       0.83      0.59      0.69      1268\n",
      "        ORG       0.66      0.54      0.59      2092\n",
      "        PER       0.81      0.81      0.81      3149\n",
      "\n",
      "avg / total       0.93      0.94      0.93     51362\n",
      "\n",
      "=== Performance (omitting 'O' class) ===\n",
      "Mean precision:  79.58%\n",
      "Mean recall:     68.78%\n",
      "Mean F1:         73.51%\n",
      "alpha:  0.01\n",
      "Begin SGD...\n",
      "  Seen 0 in 0.02 s\n",
      "  [0]: mean loss 1.77988\n",
      "  [203621]: mean loss 0.129192\n",
      "SGD complete: 203621 examples in 2863.67 seconds.\n",
      "             precision    recall  f1-score   support\n",
      "\n",
      "          O       0.97      0.98      0.97     42759\n",
      "        LOC       0.91      0.77      0.83      2094\n",
      "       MISC       0.82      0.69      0.75      1268\n",
      "        ORG       0.70      0.62      0.66      2092\n",
      "        PER       0.85      0.84      0.84      3149\n",
      "\n",
      "avg / total       0.94      0.94      0.94     51362\n",
      "\n",
      "=== Performance (omitting 'O' class) ===\n",
      "Mean precision:  82.42%\n",
      "Mean recall:     74.58%\n",
      "Mean F1:         78.22%\n",
      "alpha:  0.03\n",
      "Begin SGD...\n",
      "  Seen 0 in 0.01 s\n",
      "  [0]: mean loss 1.77988\n",
      "  [203621]: mean loss 0.109557\n",
      "SGD complete: 203621 examples in 2773.97 seconds.\n",
      "             precision    recall  f1-score   support\n",
      "\n",
      "          O       0.97      0.98      0.98     42759\n",
      "        LOC       0.92      0.80      0.85      2094\n",
      "       MISC       0.80      0.74      0.77      1268\n",
      "        ORG       0.69      0.67      0.68      2092\n",
      "        PER       0.89      0.82      0.85      3149\n",
      "\n",
      "avg / total       0.95      0.95      0.95     51362\n",
      "\n",
      "=== Performance (omitting 'O' class) ===\n",
      "Mean precision:  83.52%\n",
      "Mean recall:     76.76%\n",
      "Mean F1:         79.96%\n"
     ]
    }
   ],
   "source": [
    "#### YOUR CODE HERE ####\n",
    "# Sandbox: build a good model by tuning hyperparameters\n",
    "#alpha_candidates = [0.001, 0.003, 0.01, 0.03]\n",
    "#for alpha_test in alpha_candidates:\n",
    "#    print 'alpha: ' , alpha_test\n",
    "#    clf = WindowMLP(wv, windowsize = windowsize, dims = [None, 100, 5], reg = 0.001, alpha = alpha_test)\n",
    "#    clf.train_sgd(X_train, y_train, idxiter = minibatch_iterator(), printevery = 300000, costevery = 300000)\n",
    "#    y_pre = clf.predict(X_dev)\n",
    "#    full_report(y_dev, y_pre, tagnames)\n",
    "#    F1 = eval_performance(y_dev, y_pre, tagnames)\n",
    "#### END YOUR CODE ####"
   ]
  },
  {
   "cell_type": "code",
   "execution_count": 10,
   "metadata": {
    "collapsed": false,
    "scrolled": true
   },
   "outputs": [],
   "source": [
    "#### YOUR CODE HERE ####\n",
    "# Sandbox: build a good model by tuning hyperparameters\n",
    "\n",
    "\n",
    "#### END YOUR CODE ####"
   ]
  },
  {
   "cell_type": "markdown",
   "metadata": {},
   "source": [
    "## (e): Plot Learning Curves\n",
    "The `train_sgd` function returns a list of points `(counter, cost)` giving the mean loss after that number of SGD iterations.\n",
    "\n",
    "If the model is taking too long you can cut it off by going to *Kernel->Interrupt* in the IPython menu; `train_sgd` will return the training curve so-far, and you can restart without losing your training progress.\n",
    "\n",
    "Make two plots:\n",
    "\n",
    "- Learning curve using `reg = 0.001`, and comparing the effect of changing the learning rate: run with `alpha = 0.01` and `alpha = 0.1`. Use minibatches of size 5, and train for 10,000 minibatches with `costevery=200`. Be sure to scale up your counts (x-axis) to reflect the batch size. What happens if the model tries to learn too fast? Explain why this occurs, based on the relation of SGD to the true objective.\n",
    "\n",
    "- Learning curve for your best model (print the hyperparameters in the title), as trained using your best schedule. Set `costevery` so that you get at least 100 points to plot."
   ]
  },
  {
   "cell_type": "code",
   "execution_count": 9,
   "metadata": {
    "collapsed": false,
    "scrolled": true
   },
   "outputs": [
    {
     "name": "stdout",
     "output_type": "stream",
     "text": [
      "Begin SGD...\n",
      "  Seen 0 in 0.11 s\n",
      "  [0]: mean loss 1.77988\n",
      "  [5000]: mean loss 0.347247\n",
      "  [10000]: mean loss 0.317054\n",
      "  [15000]: mean loss 0.297848\n",
      "  [20000]: mean loss 0.287443\n",
      "  [25000]: mean loss 0.273496\n",
      "  [30000]: mean loss 0.257025\n",
      "  [35000]: mean loss 0.252203\n",
      "  [40000]: mean loss 0.238609\n",
      "  [45000]: mean loss 0.224966\n",
      "  [50000]: mean loss 0.223832\n",
      "  [55000]: mean loss 0.210982\n",
      "  [60000]: mean loss 0.206504\n",
      "  [65000]: mean loss 0.204535\n",
      "  [70000]: mean loss 0.196983\n",
      "  [75000]: mean loss 0.186473\n",
      "  [80000]: mean loss 0.183733\n",
      "  [85000]: mean loss 0.181643\n",
      "  [90000]: mean loss 0.176938\n",
      "  [95000]: mean loss 0.172994\n",
      "  [100000]: mean loss 0.168766\n",
      "SGD complete: 100000 examples in 1686.48 seconds.\n"
     ]
    },
    {
     "data": {
      "image/png": "[encoded data removed]",
      "text/plain": [
       "<matplotlib.figure.Figure at 0x179f2ac8>"
      ]
     },
     "metadata": {},
     "output_type": "display_data"
    }
   ],
   "source": [
    "##\n",
    "# Plot your best learning curve here\n",
    "alpha1 = 0.01\n",
    "alpha2 = 0.1\n",
    "best_reg = 0.001\n",
    "best_minibatches = 5\n",
    "clf = WindowMLP(wv, windowsize = windowsize, dims = [None, 100, 5], reg = best_reg, alpha = alpha1)\n",
    "traincurvebest = clf.train_sgd(X_train, y_train, idxiter = minibatch_iterator(range(len(y_train)),best_minibatches,100000), printevery = 300000, costevery = 5000)\n",
    "counts, costs = zip(*traincurvebest)\n",
    "figure(figsize=(6,4))\n",
    "plot(5*array(counts), costs, color='b', marker='o', linestyle='-')\n",
    "title(r\"Learning Curve ($\\alpha$=%g, $\\lambda$=%g)\" % (clf.alpha, clf.lreg))\n",
    "xlabel(\"SGD Iterations\"); ylabel(r\"Average $J(\\theta)$\"); \n",
    "ylim(ymin=0, ymax=max(1.1*max(costs),3*min(costs)));\n",
    "ylim(0,0.5)\n",
    "\n",
    "# Don't change this filename!\n",
    "savefig(\"ner.learningcurve.best.png\")"
   ]
  },
  {
   "cell_type": "code",
   "execution_count": 18,
   "metadata": {
    "collapsed": false
   },
   "outputs": [
    {
     "name": "stdout",
     "output_type": "stream",
     "text": [
      "Begin SGD...\n",
      "  Seen 0 in 0.01 s\n",
      "  [0]: mean loss 1.77988\n",
      "  [200]: mean loss 0.729873\n",
      "  [400]: mean loss 0.76522\n",
      "  [600]: mean loss 0.752995\n",
      "  [800]: mean loss 1.42815\n",
      "  [1000]: mean loss 0.71445\n",
      "  [1200]: mean loss 0.845628\n",
      "  [1400]: mean loss 0.607811\n",
      "  [1600]: mean loss 0.813848\n",
      "  [1800]: mean loss 0.980222\n",
      "  [2000]: mean loss 0.808556\n",
      "  [2200]: mean loss 0.708536\n",
      "  [2400]: mean loss 0.881377\n",
      "  [2600]: mean loss 0.727172\n",
      "  [2800]: mean loss 0.850826\n",
      "  [3000]: mean loss 0.854522\n",
      "  [3200]: mean loss 0.723071\n",
      "  [3400]: mean loss 0.952603\n",
      "  [3600]: mean loss 0.938022\n",
      "  [3800]: mean loss 0.71357\n",
      "  [4000]: mean loss 1.04459\n",
      "  [4200]: mean loss 0.693099\n",
      "  [4400]: mean loss 0.746077\n",
      "  [4600]: mean loss 0.639733\n",
      "  [4800]: mean loss 1.18076\n",
      "  [5000]: mean loss 0.902933\n",
      "  [5200]: mean loss 0.805808\n",
      "  [5400]: mean loss 0.8591\n",
      "  [5600]: mean loss 0.703875\n",
      "  [5800]: mean loss 0.6988\n",
      "  [6000]: mean loss 0.629279\n",
      "  [6200]: mean loss 0.682619\n",
      "  [6400]: mean loss 0.604241\n",
      "  [6600]: mean loss 0.857954\n",
      "  [6800]: mean loss 0.642034\n",
      "  [7000]: mean loss 0.585995\n",
      "  [7200]: mean loss 0.649014\n",
      "  [7400]: mean loss 0.857446\n",
      "  [7600]: mean loss 0.79256\n",
      "  [7800]: mean loss 0.617376\n",
      "  [8000]: mean loss 0.626754\n",
      "  [8200]: mean loss 0.564598\n",
      "  [8400]: mean loss 0.576482\n",
      "  [8600]: mean loss 0.650785\n",
      "  [8800]: mean loss 0.48858\n",
      "  [9000]: mean loss 0.479803\n",
      "  [9200]: mean loss 0.590146\n",
      "  [9400]: mean loss 0.480532\n",
      "  [9600]: mean loss 0.686123\n",
      "  [9800]: mean loss 0.578915\n",
      "  [10000]: mean loss 0.442711\n",
      "SGD complete: 10000 examples in 1087.19 seconds.\n"
     ]
    },
    {
     "data": {
      "image/png": "[encoded data removed]",
      "text/plain": [
       "<matplotlib.figure.Figure at 0x177f9908>"
      ]
     },
     "metadata": {},
     "output_type": "display_data"
    }
   ],
   "source": [
    "##\n",
    "# Plot comparison of learning rates here\n",
    "# feel free to change the code below\n",
    "trainingcurve1 = traincurvebest\n",
    "clf2 = WindowMLP(wv, windowsize = windowsize, dims = [None, 100, 5], reg = best_reg, alpha = alpha2)\n",
    "trainingcurve2 = clf2.train_sgd(X_train, y_train, idxiter = minibatch_iterator(range(len(y_train)),best_minibatches,10000), printevery = 300000, costevery = 200) \n",
    "figure(figsize=(6,4))\n",
    "counts, costs = zip(*trainingcurve1)\n",
    "plot(5*array(counts), costs, color='b', marker='o', linestyle='-', label=r\"$\\alpha=0.01$\")\n",
    "counts, costs = zip(*trainingcurve2)\n",
    "plot(5*array(counts), costs, color='g', marker='o', linestyle='-', label=r\"$\\alpha=0.1$\")\n",
    "title(r\"Learning Curve ($\\lambda=0.01$, minibatch k=5)\")\n",
    "xlabel(\"SGD Iterations\"); ylabel(r\"Average $J(\\theta)$\"); \n",
    "ylim(ymin=0, ymax=max(1.1*max(costs),3*min(costs)));\n",
    "legend()\n",
    "\n",
    "# Don't change this filename\n",
    "savefig(\"ner.learningcurve.comparison.png\")"
   ]
  },
  {
   "cell_type": "markdown",
   "metadata": {},
   "source": [
    "## (f): Evaluating your model\n",
    "Evaluate the model on the dev set using your `predict` function, and compute performance metrics below!"
   ]
  },
  {
   "cell_type": "code",
   "execution_count": 15,
   "metadata": {
    "collapsed": true
   },
   "outputs": [],
   "source": [
    "# Predict labels on the dev set\n",
    "yp = clf.predict(X_dev)\n",
    "# Save predictions to a file, one per line\n",
    "ner.save_predictions(yp, \"dev.predicted\")"
   ]
  },
  {
   "cell_type": "code",
   "execution_count": 16,
   "metadata": {
    "collapsed": false,
    "scrolled": true
   },
   "outputs": [
    {
     "name": "stdout",
     "output_type": "stream",
     "text": [
      "             precision    recall  f1-score   support\n",
      "\n",
      "          O       0.93      0.98      0.96     42759\n",
      "        LOC       0.64      0.64      0.64      2094\n",
      "       MISC       0.75      0.36      0.49      1268\n",
      "        ORG       0.46      0.19      0.27      2092\n",
      "        PER       0.67      0.66      0.67      3149\n",
      "\n",
      "avg / total       0.88      0.90      0.88     51362\n",
      "\n",
      "=== Performance (omitting 'O' class) ===\n",
      "Mean precision:  62.23%\n",
      "Mean recall:     49.66%\n",
      "Mean F1:         53.58%\n"
     ]
    }
   ],
   "source": [
    "from nerwindow import full_report, eval_performance\n",
    "full_report(y_dev, yp, tagnames) # full report, helpful diagnostics\n",
    "eval_performance(y_dev, yp, tagnames) # performance: optimize this F1"
   ]
  },
  {
   "cell_type": "code",
   "execution_count": 17,
   "metadata": {
    "collapsed": false
   },
   "outputs": [],
   "source": [
    "# Save your predictions on the test set for us to evaluate\n",
    "# IMPORTANT: make sure X_test is exactly as loaded \n",
    "# from du.docs_to_windows, so that your predictions \n",
    "# line up with ours.\n",
    "yptest = clf.predict(X_test)\n",
    "ner.save_predictions(yptest, \"test.predicted\")"
   ]
  },
  {
   "cell_type": "markdown",
   "metadata": {},
   "source": [
    "## Part [1.1]: Probing neuron responses\n",
    "\n",
    "You might have seen some results from computer vision where the individual neurons learn to detect edges, shapes, or even [cat faces](http://googleblog.blogspot.com/2012/06/using-large-scale-brain-simulations-for.html). We're going to do the same for language.\n",
    "\n",
    "Recall that each \"neuron\" is essentially a logistic regression unit, with weights corresponding to rows of the corresponding matrix. So, if we have a hidden layer of dimension 100, then we can think of our matrix $W \\in \\mathbb{R}^{100 x 150}$ as representing 100 hidden neurons each with weights `W[i,:]` and bias `b1[i]`.\n",
    "\n",
    "### (a): Hidden Layer, Center Word\n",
    "For now, let's just look at the center word, and ignore the rest of the window. This corresponds to columns `W[:,50:100]`, although this could change if you altered the window size for your model. For each neuron, find the top 10 words that it responds to, as measured by the dot product between `W[i,50:100]` and `L[j]`. Use the provided code to print these words and their scores for 5 neurons of your choice. In your writeup, briefly describe what you notice here.\n",
    "\n",
    "The `num_to_word` dictionary, loaded earlier, may be helpful."
   ]
  },
  {
   "cell_type": "code",
   "execution_count": 27,
   "metadata": {
    "collapsed": false,
    "scrolled": false
   },
   "outputs": [
    {
     "name": "stdout",
     "output_type": "stream",
     "text": [
      "Neuron 1\n",
      "[0]: (1.942) happening\n",
      "[1]: (1.864) n't\n",
      "[2]: (1.828) than\n",
      "[3]: (1.813) unclear\n",
      "[4]: (1.808) 'll\n",
      "[5]: (1.777) seen\n",
      "[6]: (1.765) starts\n",
      "[7]: (1.751) too\n",
      "[8]: (1.730) relatively\n",
      "[9]: (1.704) whenever\n",
      "Neuron 3\n",
      "[0]: (0.092) confused\n",
      "[1]: (0.091) forth\n",
      "[2]: (0.091) looks\n",
      "[3]: (0.090) daughter\n",
      "[4]: (0.089) girlfriend\n",
      "[5]: (0.088) suddenly\n",
      "[6]: (0.087) trapped\n",
      "[7]: (0.085) gone\n",
      "[8]: (0.085) victim\n",
      "[9]: (0.084) aside\n",
      "Neuron 4\n",
      "[0]: (0.089) turkish\n",
      "[1]: (0.087) open\n",
      "[2]: (0.085) cup\n",
      "[3]: (0.085) norwegian\n",
      "[4]: (0.083) hit\n",
      "[5]: (0.083) ranked\n",
      "[6]: (0.083) danish\n",
      "[7]: (0.081) israeli\n",
      "[8]: (0.079) estimated\n",
      "[9]: (0.079) swedish\n",
      "Neuron 6\n",
      "[0]: (1.060) score\n",
      "[1]: (1.050) cup\n",
      "[2]: (0.938) example\n",
      "[3]: (0.932) explanation\n",
      "[4]: (0.928) recorded\n",
      "[5]: (0.921) apology\n",
      "[6]: (0.905) league\n",
      "[7]: (0.888) outcome\n",
      "[8]: (0.883) estimated\n",
      "[9]: (0.883) match\n",
      "Neuron 8\n",
      "[0]: (0.426) asia\n",
      "[1]: (0.398) provide\n",
      "[2]: (0.396) overseas\n",
      "[3]: (0.392) korea\n",
      "[4]: (0.388) corporations\n",
      "[5]: (0.386) germany\n",
      "[6]: (0.385) departments\n",
      "[7]: (0.381) electronics\n",
      "[8]: (0.379) universities\n",
      "[9]: (0.379) united\n"
     ]
    }
   ],
   "source": [
    "# Recommended function to print scores\n",
    "# scores = list of float\n",
    "# words = list of str\n",
    "def print_scores(scores, words):\n",
    "    for i in range(len(scores)):\n",
    "        print \"[%d]: (%.03f) %s\" % (i, scores[i], words[i])\n",
    "\n",
    "#### YOUR CODE HERE ####\n",
    "\n",
    "neurons = [1,3,4,6,8] # change this to your chosen neurons\n",
    "for i in neurons:\n",
    "    print \"Neuron %d\" % i\n",
    "    all_scores = clf.params.W[i,50:100].dot(clf.sparams.L.T)\n",
    "    topTen = list(all_scores.argsort()[-10:][::-1])\n",
    "    topwords = [num_to_word[j] for j in topTen]\n",
    "    topscores = all_scores[topTen]\n",
    "    print_scores(topscores, topwords)\n",
    "    \n",
    "#### END YOUR CODE ####"
   ]
  },
  {
   "cell_type": "markdown",
   "metadata": {},
   "source": [
    "### (b): Model Output, Center Word\n",
    "Now, let's do the same for the output layer. Here we only have 5 neurons, one for each class. `O` isn't very interesting, but let's look at the other four.\n",
    "\n",
    "Here things get a little more complicated: since we take a softmax, we can't just look at the neurons separately. An input could cause several of these neurons to all have a strong response, so we really need to compute the softmax output and find the strongest inputs for each class.\n",
    "\n",
    "As before, let's consider only the center word (`W[:,50:100]`). For each class `ORG`, `PER`, `LOC`, and `MISC`, find the input words that give the highest probability $P(\\text{class}\\ |\\ \\text{word})$.\n",
    "\n",
    "You'll need to do the full feed-forward computation here - for efficiency, try to express this as a matrix operation on $L$. This is the same feed-forward computation as used to predict probabilities, just with $W$ replaced by `W[:,50:100]`.\n",
    "\n",
    "As with the hidden-layer neurons, print the top 10 words and their corresponding class probabilities for each class."
   ]
  },
  {
   "cell_type": "code",
   "execution_count": 28,
   "metadata": {
    "collapsed": false
   },
   "outputs": [
    {
     "name": "stdout",
     "output_type": "stream",
     "text": [
      "100232 5\n",
      "Output neuron 1: LOC\n",
      "[0]: (4.795) germany\n",
      "[1]: (4.501) indonesia\n",
      "[2]: (4.483) italy\n",
      "[3]: (4.450) china\n",
      "[4]: (4.401) scotland\n",
      "[5]: (4.256) malaysia\n",
      "[6]: (4.203) korea\n",
      "[7]: (4.133) pakistan\n",
      "[8]: (4.119) russia\n",
      "[9]: (4.096) london\n",
      "\n",
      "Output neuron 2: MISC\n",
      "[0]: (5.176) turkish\n",
      "[1]: (5.087) italian\n",
      "[2]: (5.002) cup\n",
      "[3]: (4.910) israeli\n",
      "[4]: (4.845) brazilian\n",
      "[5]: (4.827) danish\n",
      "[6]: (4.811) iranian\n",
      "[7]: (4.778) german\n",
      "[8]: (4.761) english\n",
      "[9]: (4.705) open\n",
      "\n",
      "Output neuron 3: ORG\n",
      "[0]: (5.301) commons\n",
      "[1]: (5.079) arts\n",
      "[2]: (5.037) libraries\n",
      "[3]: (4.902) computing\n",
      "[4]: (4.811) commerce\n",
      "[5]: (4.793) &\n",
      "[6]: (4.731) colleges\n",
      "[7]: (4.701) sciences\n",
      "[8]: (4.683) cambridge\n",
      "[9]: (4.647) universities\n",
      "\n",
      "Output neuron 4: PER\n",
      "[0]: (6.993) pat\n",
      "[1]: (6.840) trembling\n",
      "[2]: (6.828) herb\n",
      "[3]: (6.815) martin\n",
      "[4]: (6.768) thompson\n",
      "[5]: (6.666) daniel\n",
      "[6]: (6.608) adam\n",
      "[7]: (6.567) jr.\n",
      "[8]: (6.520) sarah\n",
      "[9]: (6.411) innocence\n",
      "\n"
     ]
    }
   ],
   "source": [
    "#### YOUR CODE HERE ####\n",
    "h = tanh(clf.sparams.L.dot(clf.params.W[:, 50:100].T) + clf.params.b1)\n",
    "a = h.dot(clf.params.U.T) + clf.params.b2\n",
    "N, C = a.shape\n",
    "print N,C\n",
    "for i in range(1,5):\n",
    "    print \"Output neuron %d: %s\" % (i, num_to_tag[i])\n",
    "    topTen = a[:, i].argsort()[-10:][::-1]\n",
    "    topwords = [num_to_word[j] for j in topTen]\n",
    "    topscores = a[topTen, i]\n",
    "#    topscores = [a[j, i] for j in topTen]\n",
    "    print_scores(topscores, topwords)\n",
    "    print \"\"\n",
    "\n",
    "#### END YOUR CODE ####"
   ]
  },
  {
   "cell_type": "markdown",
   "metadata": {},
   "source": [
    "### (c): Model Output, Preceding Word\n",
    "Now for one final task: let's look at the preceding word. Repeat the above analysis for the output layer, but use the first part of $W$, i.e. `W[:,:50]`.\n",
    "\n",
    "Describe what you see, and include these results in your writeup."
   ]
  },
  {
   "cell_type": "code",
   "execution_count": 29,
   "metadata": {
    "collapsed": false,
    "scrolled": false
   },
   "outputs": [
    {
     "name": "stdout",
     "output_type": "stream",
     "text": [
      "100232 5\n",
      "Output neuron 1: LOC\n",
      "[0]: (1.469) southwest\n",
      "[1]: (1.319) southeast\n",
      "[2]: (0.801) inhabited\n",
      "[3]: (0.698) northeast\n",
      "[4]: (0.691) north\n",
      "[5]: (0.644) east\n",
      "[6]: (0.581) northwest\n",
      "[7]: (0.574) near\n",
      "[8]: (0.566) south\n",
      "[9]: (0.502) capital\n",
      "\n",
      "Output neuron 2: MISC\n",
      "[0]: (2.921) </s>\n",
      "[1]: (2.114) accommodate\n",
      "[2]: (2.087) ancient\n",
      "[3]: (2.067) medieval\n",
      "[4]: (2.065) replace\n",
      "[5]: (2.064) grand\n",
      "[6]: (2.059) open\n",
      "[7]: (1.914) no\n",
      "[8]: (1.799) million\n",
      "[9]: (1.784) entire\n",
      "\n",
      "Output neuron 3: ORG\n",
      "[0]: (3.362) corporation\n",
      "[1]: (3.358) &\n",
      "[2]: (3.207) entities\n",
      "[3]: (3.149) workshops\n",
      "[4]: (3.095) inc.\n",
      "[5]: (3.055) enterprise\n",
      "[6]: (3.041) grove\n",
      "[7]: (3.031) communications\n",
      "[8]: (3.012) nations\n",
      "[9]: (2.988) non-profit\n",
      "\n",
      "Output neuron 4: PER\n",
      "[0]: (5.671) pat\n",
      "[1]: (5.533) samuel\n",
      "[2]: (5.395) roger\n",
      "[3]: (5.382) aunt\n",
      "[4]: (5.381) assistant\n",
      "[5]: (5.310) j.\n",
      "[6]: (5.285) m.\n",
      "[7]: (5.279) peter\n",
      "[8]: (5.266) matt\n",
      "[9]: (5.222) charles\n",
      "\n"
     ]
    }
   ],
   "source": [
    "#### YOUR CODE HERE ####\n",
    "\n",
    "h = tanh(clf.sparams.L.dot(clf.params.W[:, :50].T) + clf.params.b1)\n",
    "a = h.dot(clf.params.U.T) + clf.params.b2\n",
    "N, C = a.shape\n",
    "print N,C\n",
    "for i in range(1,5):\n",
    "    print \"Output neuron %d: %s\" % (i, num_to_tag[i])\n",
    "    topTen = a[:, i].argsort()[-10:][::-1]\n",
    "    topwords = [num_to_word[j] for j in topTen]\n",
    "    topscores = a[topTen, i]\n",
    "    print_scores(topscores, topwords)\n",
    "    print \"\"\n",
    "\n",
    "#### END YOUR CODE ####"
   ]
  },
  {
   "cell_type": "code",
   "execution_count": null,
   "metadata": {
    "collapsed": true
   },
   "outputs": [],
   "source": []
  }
 ],
 "metadata": {
  "kernelspec": {
   "display_name": "Python 2",
   "language": "python",
   "name": "python2"
  },
  "language_info": {
   "codemirror_mode": {
    "name": "ipython",
    "version": 2
   },
   "file_extension": ".py",
   "mimetype": "text/x-python",
   "name": "python",
   "nbconvert_exporter": "python",
   "pygments_lexer": "ipython2",
   "version": "2.7.10"
  }
 },
 "nbformat": 4,
 "nbformat_minor": 0
}
